{
 "cells": [
  {
   "cell_type": "markdown",
   "id": "7ba146d0",
   "metadata": {},
   "source": [
    "# Data Science Tools and Ecosystem\n"
   ]
  },
  {
   "cell_type": "markdown",
   "id": "22ad8a0f",
   "metadata": {},
   "source": [
    "## Introduction\n",
    "In this notebook, we summarize some of the essential tools, languages, and libraries used by data scientists. This notebook also demonstrates simple arithmetic expressions and unit conversions using Python.\n"
   ]
  },
  {
   "cell_type": "markdown",
   "id": "482ee781",
   "metadata": {},
   "source": [
    "## Data Science Languages\n",
    "Some of the popular languages that Data Scientists use are:\n",
    "- Python\n",
    "- R\n",
    "- SQL\n"
   ]
  },
  {
   "cell_type": "markdown",
   "id": "6c296e5a",
   "metadata": {},
   "source": [
    "## Data Science Libraries\n",
    "Some of the commonly used libraries used by Data Scientists include:\n",
    "- Pandas\n",
    "- NumPy\n",
    "- Matplotlib\n"
   ]
  },
  {
   "cell_type": "markdown",
   "id": "70bba8b5",
   "metadata": {},
   "source": [
    "## Data Science Tools\n",
    "\n",
    "| Data Science Tools |\n",
    "|-------------------|\n",
    "| Jupyter Notebook  |\n",
    "| RStudio           |\n",
    "| Apache Spark      |\n"
   ]
  },
  {
   "cell_type": "markdown",
   "id": "3dd9490b",
   "metadata": {},
   "source": [
    "## Arithmetic Expression Examples\n",
    "Below are examples of evaluating arithmetic expressions in Python.\n"
   ]
  },
  {
   "cell_type": "code",
   "execution_count": 1,
   "id": "d11caf48",
   "metadata": {},
   "outputs": [
    {
     "data": {
      "text/plain": [
       "17"
      ]
     },
     "execution_count": 1,
     "metadata": {},
     "output_type": "execute_result"
    }
   ],
   "source": [
    "# This is a simple arithmetic expression to multiply then add integers\n",
    "(3 * 4) + 5\n"
   ]
  },
  {
   "cell_type": "code",
   "execution_count": 2,
   "id": "cc77c932",
   "metadata": {},
   "outputs": [
    {
     "data": {
      "text/plain": [
       "3.3333333333333335"
      ]
     },
     "execution_count": 2,
     "metadata": {},
     "output_type": "execute_result"
    }
   ],
   "source": [
    "# This will convert 200 minutes to hours by dividing by 60\n",
    "200 / 60"
   ]
  },
  {
   "cell_type": "markdown",
   "id": "1dda9e90",
   "metadata": {},
   "source": [
    "## Objectives\n",
    "In this notebook, you will learn how to:\n",
    "- List popular languages for Data Science\n",
    "- List commonly used libraries by Data Scientists\n",
    "- Create tables of Data Science tools\n",
    "- Perform arithmetic operations using Python\n",
    "- Convert minutes to hours using Python code\n"
   ]
  },
  {
   "cell_type": "markdown",
   "id": "5cebba12",
   "metadata": {},
   "source": [
    "## Author\n",
    "Antony Prakash\n"
   ]
  },
  {
   "cell_type": "markdown",
   "id": "847eb4fe",
   "metadata": {},
   "source": [
    "## GitHub Link\n",
    "[Click here to view my notebook](https://github.com/AntonyprakashAP/data-science-tools-ecosystem.git)"
   ]
  }
 ],
 "metadata": {
  "kernelspec": {
   "display_name": "Python 3",
   "language": "python",
   "name": "python3"
  },
  "language_info": {
   "codemirror_mode": {
    "name": "ipython",
    "version": 3
   },
   "file_extension": ".py",
   "mimetype": "text/x-python",
   "name": "python",
   "nbconvert_exporter": "python",
   "pygments_lexer": "ipython3",
   "version": "3.13.3"
  }
 },
 "nbformat": 4,
 "nbformat_minor": 5
}
